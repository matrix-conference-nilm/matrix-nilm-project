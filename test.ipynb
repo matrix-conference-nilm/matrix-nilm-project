{
 "cells": [
  {
   "cell_type": "code",
   "execution_count": null,
   "metadata": {},
   "outputs": [],
   "source": [
    "import pandas as pd\n",
    "\n",
    "import plotly.graph_objects as go\n",
    "import plotly.express as px\n",
    "from plotly.subplots import make_subplots\n",
    "\n",
    "import warnings\n",
    "warnings.filterwarnings(\"ignore\")\n",
    "\n",
    "import plotly.io as pio\n",
    "pio.renderers.default = \"notebook\"\n",
    "\n",
    "df = pd.read_csv(\"/Users/sungwoo/Downloads/matrix-nilm-test/csv/house_009/H009_ch01_20231002.csv\",\n",
    "                 index_col=False,\n",
    "                 parse_dates=['date_time']   # date_time 컬럼을 datetime으로 변환\n",
    "                 )\n",
    "\n",
    "df.info()"
   ]
  },
  {
   "cell_type": "code",
   "execution_count": null,
   "metadata": {},
   "outputs": [],
   "source": [
    "df.head()"
   ]
  },
  {
   "cell_type": "code",
   "execution_count": null,
   "metadata": {},
   "outputs": [],
   "source": [
    "df['active_power_diff'] = df['active_power'].diff().fillna(0)\n",
    "\n",
    "features = [\n",
    "    'active_power', 'current', 'voltage', 'apparent_power', 'reactive_power',\n",
    "    'active_power_diff'\n",
    "]"
   ]
  },
  {
   "cell_type": "code",
   "execution_count": null,
   "metadata": {},
   "outputs": [],
   "source": [
    "from sklearn.preprocessing import RobustScaler\n",
    "X_scaled = RobustScaler().fit_transform(df[features])"
   ]
  },
  {
   "cell_type": "code",
   "execution_count": null,
   "metadata": {},
   "outputs": [],
   "source": [
    "from sklearn.ensemble import IsolationForest\n",
    "\n",
    "model = IsolationForest(contamination=0.005, random_state=42)\n",
    "df['anomaly_multi'] = model.fit_predict(X_scaled)"
   ]
  },
  {
   "cell_type": "code",
   "execution_count": null,
   "metadata": {},
   "outputs": [],
   "source": [
    "# 1. anomaly flag/group 생성\n",
    "df['anomaly_flag'] = (df['anomaly_multi'] == -1).astype(int)\n",
    "df['anomaly_group'] = (df['anomaly_flag'].diff(1) != 0).cumsum()\n",
    "\n",
    "# 2. 그룹 생성 및 필터링 기준 적용 (ex: len >= 10)\n",
    "grouped = df[df['anomaly_flag'] == 1].groupby('anomaly_group')\n",
    "valid_anomaly_groups = [gid for gid, g in grouped if len(g) >= 10]\n",
    "\n",
    "# 3. 필터링된 결과 저장\n",
    "df['anomaly_multi_filtered'] = 0\n",
    "df.loc[df['anomaly_group'].isin(valid_anomaly_groups), 'anomaly_multi_filtered'] = -1\n",
    "\n",
    "# 4. 몇 개 제거됐는지 확인\n",
    "before = (df['anomaly_multi'] == -1).sum()\n",
    "after = (df['anomaly_multi_filtered'] == -1).sum()\n",
    "print(f\"Before filtering: {before}\")\n",
    "print(f\"After filtering : {after}\")\n",
    "print(f\"Filtered out    : {before - after}\")"
   ]
  },
  {
   "cell_type": "code",
   "execution_count": null,
   "metadata": {},
   "outputs": [],
   "source": [
    "num_multi = (df['anomaly_multi'] == -1).sum()\n",
    "print(f\"다변량 이상치 개수: {num_multi} / 전체: {len(df)} → {num_multi / len(df):.4%}\")"
   ]
  },
  {
   "cell_type": "code",
   "execution_count": null,
   "metadata": {},
   "outputs": [],
   "source": [
    "import matplotlib.pyplot as plt\n",
    "\n",
    "plt.figure(figsize=(15, 4))\n",
    "plt.plot(df.index, df['active_power'], label='active_power', alpha=0.7, linewidth=1.2, zorder=1)\n",
    "\n",
    "plt.scatter(\n",
    "    df[df['anomaly_multi_filtered'] == -1].index,\n",
    "    df[df['anomaly_multi_filtered'] == -1]['active_power'],\n",
    "    color='red', label='Multivariate Anomaly', s=10, zorder=2\n",
    ")\n",
    "\n",
    "plt.title(\"Multivariate Anomalies on Active Power Time Series\")\n",
    "plt.xlabel(\"Time\")\n",
    "plt.ylabel(\"Active Power\")\n",
    "plt.legend()\n",
    "plt.show()"
   ]
  },
  {
   "cell_type": "code",
   "execution_count": null,
   "metadata": {},
   "outputs": [],
   "source": [
    "df.set_index('date_time', inplace=True)\n",
    "df_zoom = df['2023-10-02 20:00:00':'2023-10-02 22:00:00']\n",
    "\n",
    "plt.figure(figsize=(15, 4))\n",
    "plt.plot(df_zoom.index, df_zoom['active_power'], label='active_power', alpha=0.7, linewidth=1.2)\n",
    "\n",
    "plt.scatter(\n",
    "    df_zoom[df_zoom['anomaly_multi_filtered'] == -1].index,\n",
    "    df_zoom[df_zoom['anomaly_multi_filtered'] == -1]['active_power'],\n",
    "    color='red', label='Multivariate Anomaly', s=20\n",
    ")\n",
    "\n",
    "plt.title(\"Zoomed View: Multivariate Anomalies (20:00 ~ 22:00)\")\n",
    "plt.xlabel(\"Time\")\n",
    "plt.ylabel(\"Active Power\")\n",
    "plt.legend()\n",
    "plt.show()"
   ]
  },
  {
   "cell_type": "code",
   "execution_count": null,
   "metadata": {},
   "outputs": [],
   "source": [
    "# from sklearn.decomposition import PCA\n",
    "# import seaborn as sns\n",
    "\n",
    "# pca = PCA(n_components=2)\n",
    "# X_pca = pca.fit_transform(X_scaled)\n",
    "\n",
    "# df['pca1'] = X_pca[:, 0]\n",
    "# df['pca2'] = X_pca[:, 1]\n",
    "\n",
    "# sns.scatterplot(x='pca1', y='pca2', data=df, hue='anomaly_multi', palette={1: 'blue', -1: 'red'}, s=10)\n",
    "# plt.title(\"PCA Projection of Multivariate Anomaly Detection\")\n",
    "# plt.show()"
   ]
  },
  {
   "cell_type": "markdown",
   "metadata": {},
   "source": [
    "JSON 라벨과 함께 패턴 분석"
   ]
  },
  {
   "cell_type": "code",
   "execution_count": null,
   "metadata": {},
   "outputs": [],
   "source": [
    "import os\n",
    "import json\n",
    "import pandas as pd\n",
    "\n",
    "json_dir = \"/Users/sungwoo/Downloads/matrix-nilm-test/json/house_009\"\n",
    "appliance_on_dict = {}\n",
    "\n",
    "for fname in os.listdir(json_dir):\n",
    "    if fname.endswith(\".json\") and \"ch01\" not in fname:\n",
    "        path = os.path.join(json_dir, fname)\n",
    "        with open(path, \"r\", encoding=\"utf-8\") as f:\n",
    "            data = json.load(f)\n",
    "\n",
    "        label_list = data['labels'].get('active_inactive', [])\n",
    "\n",
    "        rows = []\n",
    "        for entry in label_list:\n",
    "            if len(entry) >= 2:\n",
    "                start, end = entry[:2]\n",
    "                rows.append({\n",
    "                    \"start\": pd.to_datetime(start),\n",
    "                    \"end\": pd.to_datetime(end)\n",
    "                })\n",
    "\n",
    "        if rows:\n",
    "            df_on = pd.DataFrame(rows)\n",
    "            appliance_on_dict[fname.replace(\".json\", \"\")] = df_on"
   ]
  },
  {
   "cell_type": "code",
   "execution_count": null,
   "metadata": {},
   "outputs": [],
   "source": [
    "import plotly.graph_objects as go\n",
    "from itertools import cycle\n",
    "import plotly.colors as pc\n",
    "\n",
    "fig = go.Figure()\n",
    "\n",
    "# 전체 active power\n",
    "fig.add_trace(go.Scatter(\n",
    "    x=df.index, y=df['active_power'],\n",
    "    mode='lines', name='Main Active Power', line=dict(color='royalblue')\n",
    "))\n",
    "\n",
    "# 이상치 점\n",
    "anomalies = df[df['anomaly_multi_filtered'] == -1]\n",
    "fig.add_trace(go.Scatter(\n",
    "    x=anomalies.index, y=anomalies['active_power'],\n",
    "    mode='markers', name='Anomaly',\n",
    "    marker=dict(color='red', size=4)\n",
    "))\n",
    "\n",
    "# 개별 기기 ON block을 한 기기당 하나의 trace로만 생성\n",
    "colors = cycle(pc.qualitative.Set3 + pc.qualitative.Pastel1 + pc.qualitative.Pastel2)\n",
    "\n",
    "for appliance, group_df in appliance_on_dict.items():\n",
    "    color = next(colors)\n",
    "\n",
    "    for_plot = []\n",
    "\n",
    "    for row in group_df.itertuples():\n",
    "        for_plot += [\n",
    "            dict(\n",
    "                x=[row.start, row.end, row.end, row.start, row.start],\n",
    "                y=[0, 0, df['active_power'].max(), df['active_power'].max(), 0]\n",
    "            )\n",
    "        ]\n",
    "\n",
    "    for shape in for_plot:\n",
    "        fig.add_trace(go.Scatter(\n",
    "            x=shape['x'],\n",
    "            y=shape['y'],\n",
    "            fill='toself',\n",
    "            fillcolor=color,\n",
    "            line=dict(width=0),\n",
    "            name=appliance,\n",
    "            mode='lines',\n",
    "            opacity=0.25,\n",
    "            showlegend=True  # 하나의 trace이므로 legend와 완전 연동\n",
    "        ))\n",
    "\n",
    "fig.update_layout(\n",
    "    title=\"Main Active Power with Anomalies and Appliance ON Times (Legend Toggle Works)\",\n",
    "    xaxis_title=\"Time\",\n",
    "    yaxis_title=\"Power (W)\",\n",
    "    legend=dict(orientation=\"v\", itemsizing='constant')\n",
    ")\n",
    "\n",
    "fig.show()"
   ]
  },
  {
   "cell_type": "code",
   "execution_count": null,
   "metadata": {},
   "outputs": [],
   "source": [
    "import plotly.io as pio\n",
    "\n",
    "# 레이아웃 설정을 크게\n",
    "fig.update_layout(\n",
    "    width=1920,\n",
    "    height=1000,\n",
    "    title=\"Main Active Power with Anomalies and Appliance ON Times (FULL SCREEN)\",\n",
    "    xaxis_title=\"Time\",\n",
    "    yaxis_title=\"Power (W)\",\n",
    "    legend=dict(orientation=\"v\", itemsizing='constant')\n",
    ")\n",
    "\n",
    "# 전체화면 브라우저 띄우기\n",
    "pio.renderers.default = 'browser'\n",
    "pio.show(fig)  # 이걸로 전체화면으로 띄워짐"
   ]
  }
 ],
 "metadata": {
  "kernelspec": {
   "display_name": ".venv",
   "language": "python",
   "name": "python3"
  },
  "language_info": {
   "codemirror_mode": {
    "name": "ipython",
    "version": 3
   },
   "file_extension": ".py",
   "mimetype": "text/x-python",
   "name": "python",
   "nbconvert_exporter": "python",
   "pygments_lexer": "ipython3",
   "version": "3.12.10"
  }
 },
 "nbformat": 4,
 "nbformat_minor": 2
}
